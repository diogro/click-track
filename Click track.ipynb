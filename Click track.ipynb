{
 "metadata": {
  "name": "Click track"
 },
 "nbformat": 3,
 "nbformat_minor": 0,
 "worksheets": [
  {
   "cells": [
    {
     "cell_type": "code",
     "collapsed": false,
     "input": [
      "import echonest.remix.audio as audio\n",
      "import numpy as np\n",
      "from matplotlib.pylab import *\n",
      "from pyechonest import config\n",
      "\n",
      "config.ECHO_NEST_API_KEY=\"RFW26HLTZEEID1FKT\"\n"
     ],
     "language": "python",
     "metadata": {},
     "outputs": [],
     "prompt_number": 1
    },
    {
     "cell_type": "code",
     "collapsed": false,
     "input": [
      "inputFile = \"/home/diogro/Music/Amy Winehouse/Back_to_black/02_-_You_Know_I_m_No_Good.mp3\"\n",
      "        "
     ],
     "language": "python",
     "metadata": {},
     "outputs": [],
     "prompt_number": 35
    },
    {
     "cell_type": "code",
     "collapsed": false,
     "input": [
      "def plot_beats(inputFile):\n",
      "    audiofile = audio.LocalAudioFile(inputFile)\n",
      "    beats = audiofile.analysis.beats\n",
      "    durations = [beat.duration for beat in beats]\n",
      "    base = np.mean(durations)\n",
      "    off_set = []\n",
      "    for i in xrange(8, len(durations)-8):\n",
      "        off_set.append(np.mean(durations[i-8 : i + 8]))\n",
      "    plot(off_set)\n",
      "    "
     ],
     "language": "python",
     "metadata": {},
     "outputs": [],
     "prompt_number": 36
    },
    {
     "cell_type": "code",
     "collapsed": false,
     "input": [
      "plot_beats(inputFile)"
     ],
     "language": "python",
     "metadata": {},
     "outputs": [
      {
       "output_type": "stream",
       "stream": "stderr",
       "text": [
        "en-ffmpeg -i \"/home/diogro/Music/Amy Winehouse/Back_to_black/02_-_You_Know_I_m_No_Good.mp3\" -y -ac 2 -ar 44100 \"/tmp/tmpcuaSBq.wav\"\n",
        "Computed MD5 of file is 5f7c5e548859f86c0010614a4a7a5296"
       ]
      },
      {
       "output_type": "stream",
       "stream": "stderr",
       "text": [
        "\n",
        "Probing for existing analysis\n",
        "Analysis not found. Uploading..."
       ]
      }
     ],
     "prompt_number": "*"
    },
    {
     "cell_type": "code",
     "collapsed": false,
     "input": [
      "from os import listdir\n",
      "from os.path import isfile, join\n",
      "mypath = \"/home/diogro/Music/Amy Winehouse/Back_to_black/\"\n",
      "onlyfiles = [ f for f in listdir(mypath) if isfile(join(mypath,f)) ]\n",
      "file_list = [path + file for file in onlyfiles]"
     ],
     "language": "python",
     "metadata": {},
     "outputs": []
    },
    {
     "cell_type": "code",
     "collapsed": false,
     "input": [
      "for i, song in enumerate(file_list): "
     ],
     "language": "python",
     "metadata": {},
     "outputs": [],
     "prompt_number": "*"
    },
    {
     "cell_type": "code",
     "collapsed": false,
     "input": [],
     "language": "python",
     "metadata": {},
     "outputs": []
    }
   ],
   "metadata": {}
  }
 ]
}